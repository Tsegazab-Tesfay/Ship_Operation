{
 "cells": [
  {
   "cell_type": "code",
   "execution_count": 6,
   "id": "absolute-checklist",
   "metadata": {},
   "outputs": [],
   "source": [
    "import sys\n",
    "import pandas as pd\n",
    "import numpy as np\n",
    "import seaborn as sns\n",
    "import matplotlib.pyplot as plt\n",
    "from sklearn.ensemble import ExtraTreesRegressor\n",
    "from sklearn.model_selection import train_test_split\n",
    "from sklearn.ensemble import RandomForestRegressor\n",
    "from sklearn.model_selection import RandomizedSearchCV\n",
    "from sklearn import metrics"
   ]
  },
  {
   "cell_type": "code",
   "execution_count": 7,
   "id": "electric-hydrogen",
   "metadata": {},
   "outputs": [
    {
     "name": "stdout",
     "output_type": "stream",
     "text": [
      "/Users/tsegazabtesfay/opt/anaconda3/envs/SIDR\n"
     ]
    }
   ],
   "source": [
    "print(sys.prefix)"
   ]
  },
  {
   "cell_type": "code",
   "execution_count": 8,
   "id": "growing-poison",
   "metadata": {},
   "outputs": [
    {
     "data": {
      "text/plain": [
       "'/Users/tsegazabtesfay/Desktop/For_SDIR/AISprediction'"
      ]
     },
     "execution_count": 8,
     "metadata": {},
     "output_type": "execute_result"
    }
   ],
   "source": [
    "pwd"
   ]
  },
  {
   "cell_type": "code",
   "execution_count": 9,
   "id": "american-width",
   "metadata": {},
   "outputs": [
    {
     "name": "stdout",
     "output_type": "stream",
     "text": [
      "AIS_2019_01_01.csv  Procfile            app.py              \u001b[34mtemplates\u001b[m\u001b[m/\r\n",
      "Model.pkl           SDIR.ipynb          requirements.txt\r\n"
     ]
    }
   ],
   "source": [
    "ls"
   ]
  },
  {
   "cell_type": "code",
   "execution_count": 10,
   "id": "suspected-judge",
   "metadata": {},
   "outputs": [],
   "source": [
    "dataframe = pd.read_csv(\"AIS_2019_01_01.csv\")"
   ]
  },
  {
   "cell_type": "code",
   "execution_count": 11,
   "id": "third-practice",
   "metadata": {},
   "outputs": [
    {
     "data": {
      "text/plain": [
       "7509648"
      ]
     },
     "execution_count": 11,
     "metadata": {},
     "output_type": "execute_result"
    }
   ],
   "source": [
    "len(dataframe)"
   ]
  },
  {
   "cell_type": "code",
   "execution_count": 12,
   "id": "pediatric-dayton",
   "metadata": {},
   "outputs": [
    {
     "data": {
      "text/html": [
       "<div>\n",
       "<style scoped>\n",
       "    .dataframe tbody tr th:only-of-type {\n",
       "        vertical-align: middle;\n",
       "    }\n",
       "\n",
       "    .dataframe tbody tr th {\n",
       "        vertical-align: top;\n",
       "    }\n",
       "\n",
       "    .dataframe thead th {\n",
       "        text-align: right;\n",
       "    }\n",
       "</style>\n",
       "<table border=\"1\" class=\"dataframe\">\n",
       "  <thead>\n",
       "    <tr style=\"text-align: right;\">\n",
       "      <th></th>\n",
       "      <th>MMSI</th>\n",
       "      <th>BaseDateTime</th>\n",
       "      <th>LAT</th>\n",
       "      <th>LON</th>\n",
       "      <th>SOG</th>\n",
       "      <th>COG</th>\n",
       "      <th>Heading</th>\n",
       "      <th>VesselName</th>\n",
       "      <th>IMO</th>\n",
       "      <th>CallSign</th>\n",
       "      <th>VesselType</th>\n",
       "      <th>Status</th>\n",
       "      <th>Length</th>\n",
       "      <th>Width</th>\n",
       "      <th>Draft</th>\n",
       "      <th>Cargo</th>\n",
       "      <th>TranscieverClass</th>\n",
       "    </tr>\n",
       "  </thead>\n",
       "  <tbody>\n",
       "    <tr>\n",
       "      <th>0</th>\n",
       "      <td>338208626</td>\n",
       "      <td>2019-01-01T00:00:05</td>\n",
       "      <td>37.86505</td>\n",
       "      <td>-122.31405</td>\n",
       "      <td>0.0</td>\n",
       "      <td>-165.0</td>\n",
       "      <td>511.0</td>\n",
       "      <td>NaN</td>\n",
       "      <td>NaN</td>\n",
       "      <td>NaN</td>\n",
       "      <td>NaN</td>\n",
       "      <td>0.0</td>\n",
       "      <td>NaN</td>\n",
       "      <td>NaN</td>\n",
       "      <td>NaN</td>\n",
       "      <td>NaN</td>\n",
       "      <td>B</td>\n",
       "    </tr>\n",
       "    <tr>\n",
       "      <th>1</th>\n",
       "      <td>367420490</td>\n",
       "      <td>2019-01-01T00:00:04</td>\n",
       "      <td>31.26095</td>\n",
       "      <td>-91.65160</td>\n",
       "      <td>4.5</td>\n",
       "      <td>15.0</td>\n",
       "      <td>31.0</td>\n",
       "      <td>NaN</td>\n",
       "      <td>NaN</td>\n",
       "      <td>NaN</td>\n",
       "      <td>NaN</td>\n",
       "      <td>15.0</td>\n",
       "      <td>NaN</td>\n",
       "      <td>NaN</td>\n",
       "      <td>NaN</td>\n",
       "      <td>NaN</td>\n",
       "      <td>B</td>\n",
       "    </tr>\n",
       "    <tr>\n",
       "      <th>2</th>\n",
       "      <td>338060122</td>\n",
       "      <td>2019-01-01T00:00:04</td>\n",
       "      <td>30.67109</td>\n",
       "      <td>-81.46722</td>\n",
       "      <td>1.9</td>\n",
       "      <td>-67.4</td>\n",
       "      <td>511.0</td>\n",
       "      <td>NaN</td>\n",
       "      <td>NaN</td>\n",
       "      <td>NaN</td>\n",
       "      <td>NaN</td>\n",
       "      <td>0.0</td>\n",
       "      <td>NaN</td>\n",
       "      <td>NaN</td>\n",
       "      <td>NaN</td>\n",
       "      <td>NaN</td>\n",
       "      <td>B</td>\n",
       "    </tr>\n",
       "    <tr>\n",
       "      <th>3</th>\n",
       "      <td>368018190</td>\n",
       "      <td>2019-01-01T00:00:04</td>\n",
       "      <td>30.70736</td>\n",
       "      <td>-88.04332</td>\n",
       "      <td>0.0</td>\n",
       "      <td>-103.6</td>\n",
       "      <td>301.0</td>\n",
       "      <td>NaN</td>\n",
       "      <td>NaN</td>\n",
       "      <td>NaN</td>\n",
       "      <td>NaN</td>\n",
       "      <td>0.0</td>\n",
       "      <td>NaN</td>\n",
       "      <td>NaN</td>\n",
       "      <td>NaN</td>\n",
       "      <td>NaN</td>\n",
       "      <td>B</td>\n",
       "    </tr>\n",
       "    <tr>\n",
       "      <th>4</th>\n",
       "      <td>368039230</td>\n",
       "      <td>2019-01-01T00:00:04</td>\n",
       "      <td>35.08305</td>\n",
       "      <td>-90.14214</td>\n",
       "      <td>0.0</td>\n",
       "      <td>-182.3</td>\n",
       "      <td>4.0</td>\n",
       "      <td>NaN</td>\n",
       "      <td>NaN</td>\n",
       "      <td>NaN</td>\n",
       "      <td>NaN</td>\n",
       "      <td>0.0</td>\n",
       "      <td>NaN</td>\n",
       "      <td>NaN</td>\n",
       "      <td>NaN</td>\n",
       "      <td>NaN</td>\n",
       "      <td>B</td>\n",
       "    </tr>\n",
       "  </tbody>\n",
       "</table>\n",
       "</div>"
      ],
      "text/plain": [
       "        MMSI         BaseDateTime       LAT        LON  SOG    COG  Heading  \\\n",
       "0  338208626  2019-01-01T00:00:05  37.86505 -122.31405  0.0 -165.0    511.0   \n",
       "1  367420490  2019-01-01T00:00:04  31.26095  -91.65160  4.5   15.0     31.0   \n",
       "2  338060122  2019-01-01T00:00:04  30.67109  -81.46722  1.9  -67.4    511.0   \n",
       "3  368018190  2019-01-01T00:00:04  30.70736  -88.04332  0.0 -103.6    301.0   \n",
       "4  368039230  2019-01-01T00:00:04  35.08305  -90.14214  0.0 -182.3      4.0   \n",
       "\n",
       "  VesselName  IMO CallSign  VesselType  Status  Length  Width  Draft  Cargo  \\\n",
       "0        NaN  NaN      NaN         NaN     0.0     NaN    NaN    NaN    NaN   \n",
       "1        NaN  NaN      NaN         NaN    15.0     NaN    NaN    NaN    NaN   \n",
       "2        NaN  NaN      NaN         NaN     0.0     NaN    NaN    NaN    NaN   \n",
       "3        NaN  NaN      NaN         NaN     0.0     NaN    NaN    NaN    NaN   \n",
       "4        NaN  NaN      NaN         NaN     0.0     NaN    NaN    NaN    NaN   \n",
       "\n",
       "  TranscieverClass  \n",
       "0                B  \n",
       "1                B  \n",
       "2                B  \n",
       "3                B  \n",
       "4                B  "
      ]
     },
     "execution_count": 12,
     "metadata": {},
     "output_type": "execute_result"
    }
   ],
   "source": [
    "dataframe.head()"
   ]
  },
  {
   "cell_type": "code",
   "execution_count": 68,
   "id": "fewer-dispute",
   "metadata": {},
   "outputs": [
    {
     "data": {
      "image/png": "[encoded data removed]",
      "text/plain": [
       "<Figure size 1440x288 with 1 Axes>"
      ]
     },
     "metadata": {
      "needs_background": "light"
     },
     "output_type": "display_data"
    }
   ],
   "source": [
    "# See the time and heading for 50\n",
    "fig = plt.figure(figsize=(20,4))\n",
    "plt.scatter(dataframe[\"BaseDateTime\"][:50], dataframe[\"Heading\"][:50], label=\"Time and Heading\", marker=\"^\", color = \"red\")\n",
    "plt.xlabel(\"Time\")\n",
    "plt.ylabel(\"Heading\")\n",
    "plt.grid()\n",
    "plt.legend()\n",
    "plt.show()"
   ]
  },
  {
   "cell_type": "markdown",
   "id": "polished-darkness",
   "metadata": {},
   "source": [
    "#### Here I want to see which top 10 vessels with large amount of Cargo "
   ]
  },
  {
   "cell_type": "code",
   "execution_count": 89,
   "id": "renewable-livestock",
   "metadata": {},
   "outputs": [
    {
     "data": {
      "image/png": "[encoded data removed]",
      "text/plain": [
       "<Figure size 1440x720 with 1 Axes>"
      ]
     },
     "metadata": {
      "needs_background": "light"
     },
     "output_type": "display_data"
    }
   ],
   "source": [
    "\n",
    "hero.visualization.wordcloud(dataframe[\"VesselName\"].where(dataframe[\"Cargo\"] > 90), max_words=10,background_color=\"white\")"
   ]
  },
  {
   "cell_type": "code",
   "execution_count": 13,
   "id": "cooked-given",
   "metadata": {},
   "outputs": [
    {
     "data": {
      "text/html": [
       "<div>\n",
       "<style scoped>\n",
       "    .dataframe tbody tr th:only-of-type {\n",
       "        vertical-align: middle;\n",
       "    }\n",
       "\n",
       "    .dataframe tbody tr th {\n",
       "        vertical-align: top;\n",
       "    }\n",
       "\n",
       "    .dataframe thead th {\n",
       "        text-align: right;\n",
       "    }\n",
       "</style>\n",
       "<table border=\"1\" class=\"dataframe\">\n",
       "  <thead>\n",
       "    <tr style=\"text-align: right;\">\n",
       "      <th></th>\n",
       "      <th>MMSI</th>\n",
       "      <th>LAT</th>\n",
       "      <th>LON</th>\n",
       "      <th>SOG</th>\n",
       "      <th>COG</th>\n",
       "      <th>Heading</th>\n",
       "      <th>VesselType</th>\n",
       "      <th>Status</th>\n",
       "      <th>Length</th>\n",
       "      <th>Width</th>\n",
       "      <th>Draft</th>\n",
       "      <th>Cargo</th>\n",
       "    </tr>\n",
       "  </thead>\n",
       "  <tbody>\n",
       "    <tr>\n",
       "      <th>count</th>\n",
       "      <td>7.509648e+06</td>\n",
       "      <td>7.509648e+06</td>\n",
       "      <td>7.509648e+06</td>\n",
       "      <td>7.509648e+06</td>\n",
       "      <td>7.509648e+06</td>\n",
       "      <td>7.509648e+06</td>\n",
       "      <td>7.039789e+06</td>\n",
       "      <td>6.100040e+06</td>\n",
       "      <td>6.557479e+06</td>\n",
       "      <td>5.504226e+06</td>\n",
       "      <td>1.959708e+06</td>\n",
       "      <td>2.530337e+06</td>\n",
       "    </tr>\n",
       "    <tr>\n",
       "      <th>mean</th>\n",
       "      <td>3.677327e+08</td>\n",
       "      <td>3.528047e+01</td>\n",
       "      <td>-9.584478e+01</td>\n",
       "      <td>1.850448e+00</td>\n",
       "      <td>-2.518261e+01</td>\n",
       "      <td>3.663924e+02</td>\n",
       "      <td>4.376085e+01</td>\n",
       "      <td>4.060578e+00</td>\n",
       "      <td>4.999170e+01</td>\n",
       "      <td>1.158958e+01</td>\n",
       "      <td>6.497786e+00</td>\n",
       "      <td>4.752748e+01</td>\n",
       "    </tr>\n",
       "    <tr>\n",
       "      <th>std</th>\n",
       "      <td>5.702017e+07</td>\n",
       "      <td>8.291257e+00</td>\n",
       "      <td>2.011628e+01</td>\n",
       "      <td>3.957488e+00</td>\n",
       "      <td>1.223318e+02</td>\n",
       "      <td>1.789334e+02</td>\n",
       "      <td>2.000086e+01</td>\n",
       "      <td>5.788943e+00</td>\n",
       "      <td>6.583975e+01</td>\n",
       "      <td>9.411676e+00</td>\n",
       "      <td>4.351667e+00</td>\n",
       "      <td>2.246778e+01</td>\n",
       "    </tr>\n",
       "    <tr>\n",
       "      <th>min</th>\n",
       "      <td>0.000000e+00</td>\n",
       "      <td>6.667000e-02</td>\n",
       "      <td>-1.769794e+02</td>\n",
       "      <td>-5.110000e+01</td>\n",
       "      <td>-2.048000e+02</td>\n",
       "      <td>0.000000e+00</td>\n",
       "      <td>0.000000e+00</td>\n",
       "      <td>0.000000e+00</td>\n",
       "      <td>0.000000e+00</td>\n",
       "      <td>0.000000e+00</td>\n",
       "      <td>-1.250000e+01</td>\n",
       "      <td>0.000000e+00</td>\n",
       "    </tr>\n",
       "    <tr>\n",
       "      <th>25%</th>\n",
       "      <td>3.669410e+08</td>\n",
       "      <td>2.961308e+01</td>\n",
       "      <td>-9.706968e+01</td>\n",
       "      <td>0.000000e+00</td>\n",
       "      <td>-1.316000e+02</td>\n",
       "      <td>2.100000e+02</td>\n",
       "      <td>3.100000e+01</td>\n",
       "      <td>0.000000e+00</td>\n",
       "      <td>1.800000e+01</td>\n",
       "      <td>7.000000e+00</td>\n",
       "      <td>3.400000e+00</td>\n",
       "      <td>3.100000e+01</td>\n",
       "    </tr>\n",
       "    <tr>\n",
       "      <th>50%</th>\n",
       "      <td>3.673688e+08</td>\n",
       "      <td>3.265800e+01</td>\n",
       "      <td>-9.025550e+01</td>\n",
       "      <td>0.000000e+00</td>\n",
       "      <td>-4.960000e+01</td>\n",
       "      <td>5.110000e+02</td>\n",
       "      <td>3.100000e+01</td>\n",
       "      <td>0.000000e+00</td>\n",
       "      <td>2.500000e+01</td>\n",
       "      <td>9.000000e+00</td>\n",
       "      <td>4.700000e+00</td>\n",
       "      <td>5.200000e+01</td>\n",
       "    </tr>\n",
       "    <tr>\n",
       "      <th>75%</th>\n",
       "      <td>3.676698e+08</td>\n",
       "      <td>4.054473e+01</td>\n",
       "      <td>-8.143746e+01</td>\n",
       "      <td>6.000000e-01</td>\n",
       "      <td>8.140000e+01</td>\n",
       "      <td>5.110000e+02</td>\n",
       "      <td>6.000000e+01</td>\n",
       "      <td>5.000000e+00</td>\n",
       "      <td>4.100000e+01</td>\n",
       "      <td>1.200000e+01</td>\n",
       "      <td>9.800000e+00</td>\n",
       "      <td>6.000000e+01</td>\n",
       "    </tr>\n",
       "    <tr>\n",
       "      <th>max</th>\n",
       "      <td>1.000000e+09</td>\n",
       "      <td>7.049377e+01</td>\n",
       "      <td>-6.087994e+01</td>\n",
       "      <td>5.080000e+01</td>\n",
       "      <td>2.047000e+02</td>\n",
       "      <td>5.110000e+02</td>\n",
       "      <td>1.700000e+02</td>\n",
       "      <td>1.500000e+01</td>\n",
       "      <td>3.970000e+02</td>\n",
       "      <td>1.260000e+02</td>\n",
       "      <td>2.410000e+01</td>\n",
       "      <td>1.700000e+02</td>\n",
       "    </tr>\n",
       "  </tbody>\n",
       "</table>\n",
       "</div>"
      ],
      "text/plain": [
       "               MMSI           LAT           LON           SOG           COG  \\\n",
       "count  7.509648e+06  7.509648e+06  7.509648e+06  7.509648e+06  7.509648e+06   \n",
       "mean   3.677327e+08  3.528047e+01 -9.584478e+01  1.850448e+00 -2.518261e+01   \n",
       "std    5.702017e+07  8.291257e+00  2.011628e+01  3.957488e+00  1.223318e+02   \n",
       "min    0.000000e+00  6.667000e-02 -1.769794e+02 -5.110000e+01 -2.048000e+02   \n",
       "25%    3.669410e+08  2.961308e+01 -9.706968e+01  0.000000e+00 -1.316000e+02   \n",
       "50%    3.673688e+08  3.265800e+01 -9.025550e+01  0.000000e+00 -4.960000e+01   \n",
       "75%    3.676698e+08  4.054473e+01 -8.143746e+01  6.000000e-01  8.140000e+01   \n",
       "max    1.000000e+09  7.049377e+01 -6.087994e+01  5.080000e+01  2.047000e+02   \n",
       "\n",
       "            Heading    VesselType        Status        Length         Width  \\\n",
       "count  7.509648e+06  7.039789e+06  6.100040e+06  6.557479e+06  5.504226e+06   \n",
       "mean   3.663924e+02  4.376085e+01  4.060578e+00  4.999170e+01  1.158958e+01   \n",
       "std    1.789334e+02  2.000086e+01  5.788943e+00  6.583975e+01  9.411676e+00   \n",
       "min    0.000000e+00  0.000000e+00  0.000000e+00  0.000000e+00  0.000000e+00   \n",
       "25%    2.100000e+02  3.100000e+01  0.000000e+00  1.800000e+01  7.000000e+00   \n",
       "50%    5.110000e+02  3.100000e+01  0.000000e+00  2.500000e+01  9.000000e+00   \n",
       "75%    5.110000e+02  6.000000e+01  5.000000e+00  4.100000e+01  1.200000e+01   \n",
       "max    5.110000e+02  1.700000e+02  1.500000e+01  3.970000e+02  1.260000e+02   \n",
       "\n",
       "              Draft         Cargo  \n",
       "count  1.959708e+06  2.530337e+06  \n",
       "mean   6.497786e+00  4.752748e+01  \n",
       "std    4.351667e+00  2.246778e+01  \n",
       "min   -1.250000e+01  0.000000e+00  \n",
       "25%    3.400000e+00  3.100000e+01  \n",
       "50%    4.700000e+00  5.200000e+01  \n",
       "75%    9.800000e+00  6.000000e+01  \n",
       "max    2.410000e+01  1.700000e+02  "
      ]
     },
     "execution_count": 13,
     "metadata": {},
     "output_type": "execute_result"
    }
   ],
   "source": [
    "dataframe.describe()"
   ]
  },
  {
   "cell_type": "code",
   "execution_count": 14,
   "id": "underlying-lingerie",
   "metadata": {},
   "outputs": [
    {
     "name": "stdout",
     "output_type": "stream",
     "text": [
      "TOT ROWS:  7509648\n",
      "POSSIBLE DATA INPUT FROM AIS: \n",
      "1 MMSI\n",
      "2 BaseDateTime\n",
      "3 LAT\n",
      "4 LON\n",
      "5 SOG\n",
      "6 COG\n",
      "7 Heading\n",
      "8 VesselName\n",
      "9 IMO\n",
      "10 CallSign\n",
      "11 VesselType\n",
      "12 Status\n",
      "13 Length\n",
      "14 Width\n",
      "15 Draft\n",
      "16 Cargo\n",
      "17 TranscieverClass\n"
     ]
    }
   ],
   "source": [
    "df = dataframe\n",
    "print(\"Tot rows: \".upper(), len(df))\n",
    "print(\"possible data input from AIS: \".upper())\n",
    "for i in range(len(df.columns)):\n",
    "    print(i+1, df.columns[i])"
   ]
  },
  {
   "cell_type": "code",
   "execution_count": 15,
   "id": "quarterly-victim",
   "metadata": {},
   "outputs": [],
   "source": [
    "# features I want to use\n",
    "# MMSI: Maritime Mobile Service Identity\n",
    "# LAT: latitude\n",
    "# LON: longutid\n",
    "# SOG: Speed over ground\n",
    "# COG: Course Over Ground\n",
    "df = df[[\"MMSI\", \"LAT\", \"LON\", \"SOG\", \"COG\", \"Heading\", \"VesselName\", \"VesselType\", \"Length\", \"Width\", \"Cargo\"]]"
   ]
  },
  {
   "cell_type": "code",
   "execution_count": 16,
   "id": "animal-length",
   "metadata": {},
   "outputs": [
    {
     "data": {
      "text/html": [
       "<div>\n",
       "<style scoped>\n",
       "    .dataframe tbody tr th:only-of-type {\n",
       "        vertical-align: middle;\n",
       "    }\n",
       "\n",
       "    .dataframe tbody tr th {\n",
       "        vertical-align: top;\n",
       "    }\n",
       "\n",
       "    .dataframe thead th {\n",
       "        text-align: right;\n",
       "    }\n",
       "</style>\n",
       "<table border=\"1\" class=\"dataframe\">\n",
       "  <thead>\n",
       "    <tr style=\"text-align: right;\">\n",
       "      <th></th>\n",
       "      <th>MMSI</th>\n",
       "      <th>LAT</th>\n",
       "      <th>LON</th>\n",
       "      <th>SOG</th>\n",
       "      <th>COG</th>\n",
       "      <th>Heading</th>\n",
       "      <th>VesselName</th>\n",
       "      <th>VesselType</th>\n",
       "      <th>Length</th>\n",
       "      <th>Width</th>\n",
       "      <th>Cargo</th>\n",
       "    </tr>\n",
       "  </thead>\n",
       "  <tbody>\n",
       "    <tr>\n",
       "      <th>0</th>\n",
       "      <td>338208626</td>\n",
       "      <td>37.86505</td>\n",
       "      <td>-122.31405</td>\n",
       "      <td>0.0</td>\n",
       "      <td>-165.0</td>\n",
       "      <td>511.0</td>\n",
       "      <td>NaN</td>\n",
       "      <td>NaN</td>\n",
       "      <td>NaN</td>\n",
       "      <td>NaN</td>\n",
       "      <td>NaN</td>\n",
       "    </tr>\n",
       "    <tr>\n",
       "      <th>1</th>\n",
       "      <td>367420490</td>\n",
       "      <td>31.26095</td>\n",
       "      <td>-91.65160</td>\n",
       "      <td>4.5</td>\n",
       "      <td>15.0</td>\n",
       "      <td>31.0</td>\n",
       "      <td>NaN</td>\n",
       "      <td>NaN</td>\n",
       "      <td>NaN</td>\n",
       "      <td>NaN</td>\n",
       "      <td>NaN</td>\n",
       "    </tr>\n",
       "    <tr>\n",
       "      <th>2</th>\n",
       "      <td>338060122</td>\n",
       "      <td>30.67109</td>\n",
       "      <td>-81.46722</td>\n",
       "      <td>1.9</td>\n",
       "      <td>-67.4</td>\n",
       "      <td>511.0</td>\n",
       "      <td>NaN</td>\n",
       "      <td>NaN</td>\n",
       "      <td>NaN</td>\n",
       "      <td>NaN</td>\n",
       "      <td>NaN</td>\n",
       "    </tr>\n",
       "    <tr>\n",
       "      <th>3</th>\n",
       "      <td>368018190</td>\n",
       "      <td>30.70736</td>\n",
       "      <td>-88.04332</td>\n",
       "      <td>0.0</td>\n",
       "      <td>-103.6</td>\n",
       "      <td>301.0</td>\n",
       "      <td>NaN</td>\n",
       "      <td>NaN</td>\n",
       "      <td>NaN</td>\n",
       "      <td>NaN</td>\n",
       "      <td>NaN</td>\n",
       "    </tr>\n",
       "    <tr>\n",
       "      <th>4</th>\n",
       "      <td>368039230</td>\n",
       "      <td>35.08305</td>\n",
       "      <td>-90.14214</td>\n",
       "      <td>0.0</td>\n",
       "      <td>-182.3</td>\n",
       "      <td>4.0</td>\n",
       "      <td>NaN</td>\n",
       "      <td>NaN</td>\n",
       "      <td>NaN</td>\n",
       "      <td>NaN</td>\n",
       "      <td>NaN</td>\n",
       "    </tr>\n",
       "  </tbody>\n",
       "</table>\n",
       "</div>"
      ],
      "text/plain": [
       "        MMSI       LAT        LON  SOG    COG  Heading VesselName  VesselType  \\\n",
       "0  338208626  37.86505 -122.31405  0.0 -165.0    511.0        NaN         NaN   \n",
       "1  367420490  31.26095  -91.65160  4.5   15.0     31.0        NaN         NaN   \n",
       "2  338060122  30.67109  -81.46722  1.9  -67.4    511.0        NaN         NaN   \n",
       "3  368018190  30.70736  -88.04332  0.0 -103.6    301.0        NaN         NaN   \n",
       "4  368039230  35.08305  -90.14214  0.0 -182.3      4.0        NaN         NaN   \n",
       "\n",
       "   Length  Width  Cargo  \n",
       "0     NaN    NaN    NaN  \n",
       "1     NaN    NaN    NaN  \n",
       "2     NaN    NaN    NaN  \n",
       "3     NaN    NaN    NaN  \n",
       "4     NaN    NaN    NaN  "
      ]
     },
     "execution_count": 16,
     "metadata": {},
     "output_type": "execute_result"
    }
   ],
   "source": [
    "df.head()"
   ]
  },
  {
   "cell_type": "code",
   "execution_count": 17,
   "id": "grave-determination",
   "metadata": {},
   "outputs": [
    {
     "name": "stdout",
     "output_type": "stream",
     "text": [
      "From our data, I can see that there are 4231814 unavailble.\n",
      "Without any dublicates, there are 2216860 rows.\n"
     ]
    }
   ],
   "source": [
    "c = 0\n",
    "for i in range(len(df)):\n",
    "    if df[\"Heading\"][i] == 511: #accordaing to the source 511 means “not available\"\n",
    "        c += 1\n",
    "print(\"From our data, I can see that there are %d unavailble.\" %c)\n",
    "# duplicates\n",
    "df2 = df.groupby(df.columns.tolist()).size().reset_index().rename(columns={0:\"Records\"})\n",
    "print(\"Without any dublicates, there are %s rows.\" % len(df2))"
   ]
  },
  {
   "cell_type": "code",
   "execution_count": 18,
   "id": "vocational-cruise",
   "metadata": {},
   "outputs": [
    {
     "data": {
      "text/html": [
       "<div>\n",
       "<style scoped>\n",
       "    .dataframe tbody tr th:only-of-type {\n",
       "        vertical-align: middle;\n",
       "    }\n",
       "\n",
       "    .dataframe tbody tr th {\n",
       "        vertical-align: top;\n",
       "    }\n",
       "\n",
       "    .dataframe thead th {\n",
       "        text-align: right;\n",
       "    }\n",
       "</style>\n",
       "<table border=\"1\" class=\"dataframe\">\n",
       "  <thead>\n",
       "    <tr style=\"text-align: right;\">\n",
       "      <th></th>\n",
       "      <th>MMSI</th>\n",
       "      <th>LAT</th>\n",
       "      <th>LON</th>\n",
       "      <th>SOG</th>\n",
       "      <th>COG</th>\n",
       "      <th>Heading</th>\n",
       "      <th>VesselName</th>\n",
       "      <th>VesselType</th>\n",
       "      <th>Length</th>\n",
       "      <th>Width</th>\n",
       "      <th>Cargo</th>\n",
       "      <th>Records</th>\n",
       "    </tr>\n",
       "  </thead>\n",
       "  <tbody>\n",
       "    <tr>\n",
       "      <th>0</th>\n",
       "      <td>527918</td>\n",
       "      <td>40.68632</td>\n",
       "      <td>-74.07780</td>\n",
       "      <td>0.0</td>\n",
       "      <td>89.7</td>\n",
       "      <td>228.0</td>\n",
       "      <td>SALVAGE MASTER</td>\n",
       "      <td>30.0</td>\n",
       "      <td>0.0</td>\n",
       "      <td>0.0</td>\n",
       "      <td>30.0</td>\n",
       "      <td>1</td>\n",
       "    </tr>\n",
       "    <tr>\n",
       "      <th>1</th>\n",
       "      <td>527918</td>\n",
       "      <td>40.68633</td>\n",
       "      <td>-74.07780</td>\n",
       "      <td>0.0</td>\n",
       "      <td>89.7</td>\n",
       "      <td>229.0</td>\n",
       "      <td>SALVAGE MASTER</td>\n",
       "      <td>30.0</td>\n",
       "      <td>0.0</td>\n",
       "      <td>0.0</td>\n",
       "      <td>30.0</td>\n",
       "      <td>1</td>\n",
       "    </tr>\n",
       "    <tr>\n",
       "      <th>2</th>\n",
       "      <td>527918</td>\n",
       "      <td>40.68634</td>\n",
       "      <td>-74.07783</td>\n",
       "      <td>0.0</td>\n",
       "      <td>89.7</td>\n",
       "      <td>222.0</td>\n",
       "      <td>SALVAGE MASTER</td>\n",
       "      <td>30.0</td>\n",
       "      <td>0.0</td>\n",
       "      <td>0.0</td>\n",
       "      <td>30.0</td>\n",
       "      <td>1</td>\n",
       "    </tr>\n",
       "    <tr>\n",
       "      <th>3</th>\n",
       "      <td>527918</td>\n",
       "      <td>40.68634</td>\n",
       "      <td>-74.07783</td>\n",
       "      <td>0.0</td>\n",
       "      <td>89.7</td>\n",
       "      <td>224.0</td>\n",
       "      <td>SALVAGE MASTER</td>\n",
       "      <td>30.0</td>\n",
       "      <td>0.0</td>\n",
       "      <td>0.0</td>\n",
       "      <td>30.0</td>\n",
       "      <td>1</td>\n",
       "    </tr>\n",
       "    <tr>\n",
       "      <th>4</th>\n",
       "      <td>527918</td>\n",
       "      <td>40.68634</td>\n",
       "      <td>-74.07783</td>\n",
       "      <td>0.0</td>\n",
       "      <td>89.7</td>\n",
       "      <td>225.0</td>\n",
       "      <td>SALVAGE MASTER</td>\n",
       "      <td>30.0</td>\n",
       "      <td>0.0</td>\n",
       "      <td>0.0</td>\n",
       "      <td>30.0</td>\n",
       "      <td>1</td>\n",
       "    </tr>\n",
       "  </tbody>\n",
       "</table>\n",
       "</div>"
      ],
      "text/plain": [
       "     MMSI       LAT       LON  SOG   COG  Heading      VesselName  VesselType  \\\n",
       "0  527918  40.68632 -74.07780  0.0  89.7    228.0  SALVAGE MASTER        30.0   \n",
       "1  527918  40.68633 -74.07780  0.0  89.7    229.0  SALVAGE MASTER        30.0   \n",
       "2  527918  40.68634 -74.07783  0.0  89.7    222.0  SALVAGE MASTER        30.0   \n",
       "3  527918  40.68634 -74.07783  0.0  89.7    224.0  SALVAGE MASTER        30.0   \n",
       "4  527918  40.68634 -74.07783  0.0  89.7    225.0  SALVAGE MASTER        30.0   \n",
       "\n",
       "   Length  Width  Cargo  Records  \n",
       "0     0.0    0.0   30.0        1  \n",
       "1     0.0    0.0   30.0        1  \n",
       "2     0.0    0.0   30.0        1  \n",
       "3     0.0    0.0   30.0        1  \n",
       "4     0.0    0.0   30.0        1  "
      ]
     },
     "execution_count": 18,
     "metadata": {},
     "output_type": "execute_result"
    }
   ],
   "source": [
    "df2.head()"
   ]
  },
  {
   "cell_type": "code",
   "execution_count": 19,
   "id": "express-founder",
   "metadata": {},
   "outputs": [
    {
     "data": {
      "text/html": [
       "<div>\n",
       "<style scoped>\n",
       "    .dataframe tbody tr th:only-of-type {\n",
       "        vertical-align: middle;\n",
       "    }\n",
       "\n",
       "    .dataframe tbody tr th {\n",
       "        vertical-align: top;\n",
       "    }\n",
       "\n",
       "    .dataframe thead th {\n",
       "        text-align: right;\n",
       "    }\n",
       "</style>\n",
       "<table border=\"1\" class=\"dataframe\">\n",
       "  <thead>\n",
       "    <tr style=\"text-align: right;\">\n",
       "      <th></th>\n",
       "      <th>MMSI</th>\n",
       "      <th>LAT</th>\n",
       "      <th>LON</th>\n",
       "      <th>SOG</th>\n",
       "      <th>COG</th>\n",
       "      <th>Heading</th>\n",
       "      <th>VesselName</th>\n",
       "      <th>VesselType</th>\n",
       "      <th>Length</th>\n",
       "      <th>Width</th>\n",
       "      <th>Cargo</th>\n",
       "      <th>Records</th>\n",
       "    </tr>\n",
       "  </thead>\n",
       "  <tbody>\n",
       "    <tr>\n",
       "      <th>300</th>\n",
       "      <td>527918</td>\n",
       "      <td>40.68639</td>\n",
       "      <td>-74.07781</td>\n",
       "      <td>0.0</td>\n",
       "      <td>-87.6</td>\n",
       "      <td>231.0</td>\n",
       "      <td>SALVAGE MASTER</td>\n",
       "      <td>30.0</td>\n",
       "      <td>0.0</td>\n",
       "      <td>0.0</td>\n",
       "      <td>30.0</td>\n",
       "      <td>1</td>\n",
       "    </tr>\n",
       "    <tr>\n",
       "      <th>301</th>\n",
       "      <td>527918</td>\n",
       "      <td>40.68639</td>\n",
       "      <td>-74.07781</td>\n",
       "      <td>0.0</td>\n",
       "      <td>89.7</td>\n",
       "      <td>222.0</td>\n",
       "      <td>SALVAGE MASTER</td>\n",
       "      <td>30.0</td>\n",
       "      <td>0.0</td>\n",
       "      <td>0.0</td>\n",
       "      <td>30.0</td>\n",
       "      <td>1</td>\n",
       "    </tr>\n",
       "    <tr>\n",
       "      <th>302</th>\n",
       "      <td>527918</td>\n",
       "      <td>40.68639</td>\n",
       "      <td>-74.07781</td>\n",
       "      <td>0.0</td>\n",
       "      <td>89.7</td>\n",
       "      <td>223.0</td>\n",
       "      <td>SALVAGE MASTER</td>\n",
       "      <td>30.0</td>\n",
       "      <td>0.0</td>\n",
       "      <td>0.0</td>\n",
       "      <td>30.0</td>\n",
       "      <td>2</td>\n",
       "    </tr>\n",
       "    <tr>\n",
       "      <th>303</th>\n",
       "      <td>527918</td>\n",
       "      <td>40.68639</td>\n",
       "      <td>-74.07781</td>\n",
       "      <td>0.0</td>\n",
       "      <td>89.7</td>\n",
       "      <td>224.0</td>\n",
       "      <td>SALVAGE MASTER</td>\n",
       "      <td>30.0</td>\n",
       "      <td>0.0</td>\n",
       "      <td>0.0</td>\n",
       "      <td>30.0</td>\n",
       "      <td>1</td>\n",
       "    </tr>\n",
       "    <tr>\n",
       "      <th>304</th>\n",
       "      <td>527918</td>\n",
       "      <td>40.68639</td>\n",
       "      <td>-74.07781</td>\n",
       "      <td>0.0</td>\n",
       "      <td>89.7</td>\n",
       "      <td>225.0</td>\n",
       "      <td>SALVAGE MASTER</td>\n",
       "      <td>30.0</td>\n",
       "      <td>0.0</td>\n",
       "      <td>0.0</td>\n",
       "      <td>30.0</td>\n",
       "      <td>2</td>\n",
       "    </tr>\n",
       "    <tr>\n",
       "      <th>305</th>\n",
       "      <td>527918</td>\n",
       "      <td>40.68639</td>\n",
       "      <td>-74.07781</td>\n",
       "      <td>0.0</td>\n",
       "      <td>89.7</td>\n",
       "      <td>226.0</td>\n",
       "      <td>SALVAGE MASTER</td>\n",
       "      <td>30.0</td>\n",
       "      <td>0.0</td>\n",
       "      <td>0.0</td>\n",
       "      <td>30.0</td>\n",
       "      <td>3</td>\n",
       "    </tr>\n",
       "    <tr>\n",
       "      <th>306</th>\n",
       "      <td>527918</td>\n",
       "      <td>40.68639</td>\n",
       "      <td>-74.07781</td>\n",
       "      <td>0.0</td>\n",
       "      <td>89.7</td>\n",
       "      <td>227.0</td>\n",
       "      <td>SALVAGE MASTER</td>\n",
       "      <td>30.0</td>\n",
       "      <td>0.0</td>\n",
       "      <td>0.0</td>\n",
       "      <td>30.0</td>\n",
       "      <td>3</td>\n",
       "    </tr>\n",
       "    <tr>\n",
       "      <th>307</th>\n",
       "      <td>527918</td>\n",
       "      <td>40.68639</td>\n",
       "      <td>-74.07781</td>\n",
       "      <td>0.0</td>\n",
       "      <td>89.7</td>\n",
       "      <td>228.0</td>\n",
       "      <td>SALVAGE MASTER</td>\n",
       "      <td>30.0</td>\n",
       "      <td>0.0</td>\n",
       "      <td>0.0</td>\n",
       "      <td>30.0</td>\n",
       "      <td>2</td>\n",
       "    </tr>\n",
       "    <tr>\n",
       "      <th>308</th>\n",
       "      <td>527918</td>\n",
       "      <td>40.68639</td>\n",
       "      <td>-74.07781</td>\n",
       "      <td>0.0</td>\n",
       "      <td>89.7</td>\n",
       "      <td>231.0</td>\n",
       "      <td>SALVAGE MASTER</td>\n",
       "      <td>30.0</td>\n",
       "      <td>0.0</td>\n",
       "      <td>0.0</td>\n",
       "      <td>30.0</td>\n",
       "      <td>1</td>\n",
       "    </tr>\n",
       "    <tr>\n",
       "      <th>309</th>\n",
       "      <td>527918</td>\n",
       "      <td>40.68639</td>\n",
       "      <td>-74.07780</td>\n",
       "      <td>0.0</td>\n",
       "      <td>-87.6</td>\n",
       "      <td>230.0</td>\n",
       "      <td>SALVAGE MASTER</td>\n",
       "      <td>30.0</td>\n",
       "      <td>0.0</td>\n",
       "      <td>0.0</td>\n",
       "      <td>30.0</td>\n",
       "      <td>1</td>\n",
       "    </tr>\n",
       "  </tbody>\n",
       "</table>\n",
       "</div>"
      ],
      "text/plain": [
       "       MMSI       LAT       LON  SOG   COG  Heading      VesselName  \\\n",
       "300  527918  40.68639 -74.07781  0.0 -87.6    231.0  SALVAGE MASTER   \n",
       "301  527918  40.68639 -74.07781  0.0  89.7    222.0  SALVAGE MASTER   \n",
       "302  527918  40.68639 -74.07781  0.0  89.7    223.0  SALVAGE MASTER   \n",
       "303  527918  40.68639 -74.07781  0.0  89.7    224.0  SALVAGE MASTER   \n",
       "304  527918  40.68639 -74.07781  0.0  89.7    225.0  SALVAGE MASTER   \n",
       "305  527918  40.68639 -74.07781  0.0  89.7    226.0  SALVAGE MASTER   \n",
       "306  527918  40.68639 -74.07781  0.0  89.7    227.0  SALVAGE MASTER   \n",
       "307  527918  40.68639 -74.07781  0.0  89.7    228.0  SALVAGE MASTER   \n",
       "308  527918  40.68639 -74.07781  0.0  89.7    231.0  SALVAGE MASTER   \n",
       "309  527918  40.68639 -74.07780  0.0 -87.6    230.0  SALVAGE MASTER   \n",
       "\n",
       "     VesselType  Length  Width  Cargo  Records  \n",
       "300        30.0     0.0    0.0   30.0        1  \n",
       "301        30.0     0.0    0.0   30.0        1  \n",
       "302        30.0     0.0    0.0   30.0        2  \n",
       "303        30.0     0.0    0.0   30.0        1  \n",
       "304        30.0     0.0    0.0   30.0        2  \n",
       "305        30.0     0.0    0.0   30.0        3  \n",
       "306        30.0     0.0    0.0   30.0        3  \n",
       "307        30.0     0.0    0.0   30.0        2  \n",
       "308        30.0     0.0    0.0   30.0        1  \n",
       "309        30.0     0.0    0.0   30.0        1  "
      ]
     },
     "execution_count": 19,
     "metadata": {},
     "output_type": "execute_result"
    }
   ],
   "source": [
    "# here I just want to see how the data looks like in randomly chosen index\n",
    "df2[df2.columns].iloc[300:310]"
   ]
  },
  {
   "cell_type": "code",
   "execution_count": 85,
   "id": "appropriate-journalism",
   "metadata": {},
   "outputs": [
    {
     "name": "stdout",
     "output_type": "stream",
     "text": [
      "\u001b[38;5;2m✔ Download and installation successful\u001b[0m\n",
      "You can now load the package via spacy.load('en_core_web_sm')\n"
     ]
    }
   ],
   "source": [
    "import texthero as hero"
   ]
  },
  {
   "cell_type": "code",
   "execution_count": null,
   "id": "protected-cooling",
   "metadata": {},
   "outputs": [],
   "source": []
  },
  {
   "cell_type": "code",
   "execution_count": 86,
   "id": "congressional-schema",
   "metadata": {},
   "outputs": [
    {
     "ename": "KeyError",
     "evalue": "'VesselName'",
     "output_type": "error",
     "traceback": [
      "\u001b[0;31m---------------------------------------------------------------------------\u001b[0m",
      "\u001b[0;31mKeyError\u001b[0m                                  Traceback (most recent call last)",
      "\u001b[0;32m~/opt/anaconda3/envs/SIDR/lib/python3.7/site-packages/pandas/core/indexes/base.py\u001b[0m in \u001b[0;36mget_loc\u001b[0;34m(self, key, method, tolerance)\u001b[0m\n\u001b[1;32m   3079\u001b[0m             \u001b[0;32mtry\u001b[0m\u001b[0;34m:\u001b[0m\u001b[0;34m\u001b[0m\u001b[0;34m\u001b[0m\u001b[0m\n\u001b[0;32m-> 3080\u001b[0;31m                 \u001b[0;32mreturn\u001b[0m \u001b[0mself\u001b[0m\u001b[0;34m.\u001b[0m\u001b[0m_engine\u001b[0m\u001b[0;34m.\u001b[0m\u001b[0mget_loc\u001b[0m\u001b[0;34m(\u001b[0m\u001b[0mcasted_key\u001b[0m\u001b[0;34m)\u001b[0m\u001b[0;34m\u001b[0m\u001b[0;34m\u001b[0m\u001b[0m\n\u001b[0m\u001b[1;32m   3081\u001b[0m             \u001b[0;32mexcept\u001b[0m \u001b[0mKeyError\u001b[0m \u001b[0;32mas\u001b[0m \u001b[0merr\u001b[0m\u001b[0;34m:\u001b[0m\u001b[0;34m\u001b[0m\u001b[0;34m\u001b[0m\u001b[0m\n",
      "\u001b[0;32mpandas/_libs/index.pyx\u001b[0m in \u001b[0;36mpandas._libs.index.IndexEngine.get_loc\u001b[0;34m()\u001b[0m\n",
      "\u001b[0;32mpandas/_libs/index.pyx\u001b[0m in \u001b[0;36mpandas._libs.index.IndexEngine.get_loc\u001b[0;34m()\u001b[0m\n",
      "\u001b[0;32mpandas/_libs/hashtable_class_helper.pxi\u001b[0m in \u001b[0;36mpandas._libs.hashtable.PyObjectHashTable.get_item\u001b[0;34m()\u001b[0m\n",
      "\u001b[0;32mpandas/_libs/hashtable_class_helper.pxi\u001b[0m in \u001b[0;36mpandas._libs.hashtable.PyObjectHashTable.get_item\u001b[0;34m()\u001b[0m\n",
      "\u001b[0;31mKeyError\u001b[0m: 'VesselName'",
      "\nThe above exception was the direct cause of the following exception:\n",
      "\u001b[0;31mKeyError\u001b[0m                                  Traceback (most recent call last)",
      "\u001b[0;32m<ipython-input-86-5e4ffb0f3bfd>\u001b[0m in \u001b[0;36m<module>\u001b[0;34m\u001b[0m\n\u001b[0;32m----> 1\u001b[0;31m \u001b[0mhero\u001b[0m\u001b[0;34m.\u001b[0m\u001b[0mvisualization\u001b[0m\u001b[0;34m.\u001b[0m\u001b[0mwordcloud\u001b[0m\u001b[0;34m(\u001b[0m\u001b[0mdf2\u001b[0m\u001b[0;34m[\u001b[0m\u001b[0;34m\"VesselName\"\u001b[0m\u001b[0;34m]\u001b[0m\u001b[0;34m.\u001b[0m\u001b[0mwhere\u001b[0m\u001b[0;34m(\u001b[0m\u001b[0mdf2\u001b[0m\u001b[0;34m[\u001b[0m\u001b[0;34m\"Cargo\"\u001b[0m\u001b[0;34m]\u001b[0m \u001b[0;34m>\u001b[0m \u001b[0;36m70\u001b[0m\u001b[0;34m)\u001b[0m\u001b[0;34m,\u001b[0m \u001b[0mmax_words\u001b[0m\u001b[0;34m=\u001b[0m\u001b[0;36m30\u001b[0m\u001b[0;34m,\u001b[0m\u001b[0mbackground_color\u001b[0m\u001b[0;34m=\u001b[0m\u001b[0;34m\"white\"\u001b[0m\u001b[0;34m)\u001b[0m\u001b[0;34m\u001b[0m\u001b[0;34m\u001b[0m\u001b[0m\n\u001b[0m",
      "\u001b[0;32m~/opt/anaconda3/envs/SIDR/lib/python3.7/site-packages/pandas/core/frame.py\u001b[0m in \u001b[0;36m__getitem__\u001b[0;34m(self, key)\u001b[0m\n\u001b[1;32m   3022\u001b[0m             \u001b[0;32mif\u001b[0m \u001b[0mself\u001b[0m\u001b[0;34m.\u001b[0m\u001b[0mcolumns\u001b[0m\u001b[0;34m.\u001b[0m\u001b[0mnlevels\u001b[0m \u001b[0;34m>\u001b[0m \u001b[0;36m1\u001b[0m\u001b[0;34m:\u001b[0m\u001b[0;34m\u001b[0m\u001b[0;34m\u001b[0m\u001b[0m\n\u001b[1;32m   3023\u001b[0m                 \u001b[0;32mreturn\u001b[0m \u001b[0mself\u001b[0m\u001b[0;34m.\u001b[0m\u001b[0m_getitem_multilevel\u001b[0m\u001b[0;34m(\u001b[0m\u001b[0mkey\u001b[0m\u001b[0;34m)\u001b[0m\u001b[0;34m\u001b[0m\u001b[0;34m\u001b[0m\u001b[0m\n\u001b[0;32m-> 3024\u001b[0;31m             \u001b[0mindexer\u001b[0m \u001b[0;34m=\u001b[0m \u001b[0mself\u001b[0m\u001b[0;34m.\u001b[0m\u001b[0mcolumns\u001b[0m\u001b[0;34m.\u001b[0m\u001b[0mget_loc\u001b[0m\u001b[0;34m(\u001b[0m\u001b[0mkey\u001b[0m\u001b[0;34m)\u001b[0m\u001b[0;34m\u001b[0m\u001b[0;34m\u001b[0m\u001b[0m\n\u001b[0m\u001b[1;32m   3025\u001b[0m             \u001b[0;32mif\u001b[0m \u001b[0mis_integer\u001b[0m\u001b[0;34m(\u001b[0m\u001b[0mindexer\u001b[0m\u001b[0;34m)\u001b[0m\u001b[0;34m:\u001b[0m\u001b[0;34m\u001b[0m\u001b[0;34m\u001b[0m\u001b[0m\n\u001b[1;32m   3026\u001b[0m                 \u001b[0mindexer\u001b[0m \u001b[0;34m=\u001b[0m \u001b[0;34m[\u001b[0m\u001b[0mindexer\u001b[0m\u001b[0;34m]\u001b[0m\u001b[0;34m\u001b[0m\u001b[0;34m\u001b[0m\u001b[0m\n",
      "\u001b[0;32m~/opt/anaconda3/envs/SIDR/lib/python3.7/site-packages/pandas/core/indexes/base.py\u001b[0m in \u001b[0;36mget_loc\u001b[0;34m(self, key, method, tolerance)\u001b[0m\n\u001b[1;32m   3080\u001b[0m                 \u001b[0;32mreturn\u001b[0m \u001b[0mself\u001b[0m\u001b[0;34m.\u001b[0m\u001b[0m_engine\u001b[0m\u001b[0;34m.\u001b[0m\u001b[0mget_loc\u001b[0m\u001b[0;34m(\u001b[0m\u001b[0mcasted_key\u001b[0m\u001b[0;34m)\u001b[0m\u001b[0;34m\u001b[0m\u001b[0;34m\u001b[0m\u001b[0m\n\u001b[1;32m   3081\u001b[0m             \u001b[0;32mexcept\u001b[0m \u001b[0mKeyError\u001b[0m \u001b[0;32mas\u001b[0m \u001b[0merr\u001b[0m\u001b[0;34m:\u001b[0m\u001b[0;34m\u001b[0m\u001b[0;34m\u001b[0m\u001b[0m\n\u001b[0;32m-> 3082\u001b[0;31m                 \u001b[0;32mraise\u001b[0m \u001b[0mKeyError\u001b[0m\u001b[0;34m(\u001b[0m\u001b[0mkey\u001b[0m\u001b[0;34m)\u001b[0m \u001b[0;32mfrom\u001b[0m \u001b[0merr\u001b[0m\u001b[0;34m\u001b[0m\u001b[0;34m\u001b[0m\u001b[0m\n\u001b[0m\u001b[1;32m   3083\u001b[0m \u001b[0;34m\u001b[0m\u001b[0m\n\u001b[1;32m   3084\u001b[0m         \u001b[0;32mif\u001b[0m \u001b[0mtolerance\u001b[0m \u001b[0;32mis\u001b[0m \u001b[0;32mnot\u001b[0m \u001b[0;32mNone\u001b[0m\u001b[0;34m:\u001b[0m\u001b[0;34m\u001b[0m\u001b[0;34m\u001b[0m\u001b[0m\n",
      "\u001b[0;31mKeyError\u001b[0m: 'VesselName'"
     ]
    }
   ],
   "source": [
    "hero.visualization.wordcloud(df2[\"VesselName\"].where(df2[\"Cargo\"] > 70), max_words=30,background_color=\"white\")"
   ]
  },
  {
   "cell_type": "code",
   "execution_count": 80,
   "id": "experimental-princeton",
   "metadata": {},
   "outputs": [
    {
     "name": "stdout",
     "output_type": "stream",
     "text": [
      "132.0\n"
     ]
    }
   ],
   "source": [
    "print(max(df2[\"Cargo\"][:]))"
   ]
  },
  {
   "cell_type": "code",
   "execution_count": null,
   "id": "determined-limit",
   "metadata": {},
   "outputs": [],
   "source": []
  },
  {
   "cell_type": "code",
   "execution_count": 20,
   "id": "crude-spray",
   "metadata": {},
   "outputs": [
    {
     "data": {
      "text/plain": [
       "False"
      ]
     },
     "execution_count": 20,
     "metadata": {},
     "output_type": "execute_result"
    }
   ],
   "source": [
    "# check if there is any NaN\n",
    "df2.iloc[:].isnull().values.any()"
   ]
  },
  {
   "cell_type": "code",
   "execution_count": 21,
   "id": "supreme-response",
   "metadata": {},
   "outputs": [
    {
     "name": "stdout",
     "output_type": "stream",
     "text": [
      "RECORDS\n",
      "Out of this one can get a generall idea the movement of vessels\n",
      "2163705 27778 8094 17283\n"
     ]
    }
   ],
   "source": [
    "# create duplicate checker\n",
    "records_counter_for1 = 0\n",
    "records_counter_for2 = 0\n",
    "records_counter_for3 = 0\n",
    "records_counter_for_above3 = 0\n",
    "\n",
    "for i in range(len(df2)):\n",
    "    if df2[\"Records\"][i] == 1:\n",
    "        records_counter_for1 += 1\n",
    "    elif df2[\"Records\"][i] == 2:\n",
    "        records_counter_for2 += 1\n",
    "    elif df2[\"Records\"][i] == 3:\n",
    "        records_counter_for3 += 1\n",
    "    else:\n",
    "        records_counter_for_above3 += 1\n",
    "print(\"records\".upper())\n",
    "print(\"Out of this one can get a generall idea the movement of vessels\")\n",
    "print(records_counter_for1, records_counter_for2, records_counter_for3, records_counter_for_above3)"
   ]
  },
  {
   "cell_type": "code",
   "execution_count": 22,
   "id": "aboriginal-kenya",
   "metadata": {},
   "outputs": [],
   "source": [
    "df2 = df2.drop([\"VesselName\"],axis=1)"
   ]
  },
  {
   "cell_type": "code",
   "execution_count": 23,
   "id": "following-weapon",
   "metadata": {},
   "outputs": [],
   "source": [
    "df2 = pd.get_dummies(df2, drop_first=True)"
   ]
  },
  {
   "cell_type": "code",
   "execution_count": 24,
   "id": "junior-technician",
   "metadata": {},
   "outputs": [
    {
     "data": {
      "text/html": [
       "<div>\n",
       "<style scoped>\n",
       "    .dataframe tbody tr th:only-of-type {\n",
       "        vertical-align: middle;\n",
       "    }\n",
       "\n",
       "    .dataframe tbody tr th {\n",
       "        vertical-align: top;\n",
       "    }\n",
       "\n",
       "    .dataframe thead th {\n",
       "        text-align: right;\n",
       "    }\n",
       "</style>\n",
       "<table border=\"1\" class=\"dataframe\">\n",
       "  <thead>\n",
       "    <tr style=\"text-align: right;\">\n",
       "      <th></th>\n",
       "      <th>MMSI</th>\n",
       "      <th>LAT</th>\n",
       "      <th>LON</th>\n",
       "      <th>SOG</th>\n",
       "      <th>COG</th>\n",
       "      <th>Heading</th>\n",
       "      <th>VesselType</th>\n",
       "      <th>Length</th>\n",
       "      <th>Width</th>\n",
       "      <th>Cargo</th>\n",
       "      <th>Records</th>\n",
       "    </tr>\n",
       "  </thead>\n",
       "  <tbody>\n",
       "    <tr>\n",
       "      <th>0</th>\n",
       "      <td>527918</td>\n",
       "      <td>40.68632</td>\n",
       "      <td>-74.07780</td>\n",
       "      <td>0.0</td>\n",
       "      <td>89.7</td>\n",
       "      <td>228.0</td>\n",
       "      <td>30.0</td>\n",
       "      <td>0.0</td>\n",
       "      <td>0.0</td>\n",
       "      <td>30.0</td>\n",
       "      <td>1</td>\n",
       "    </tr>\n",
       "    <tr>\n",
       "      <th>1</th>\n",
       "      <td>527918</td>\n",
       "      <td>40.68633</td>\n",
       "      <td>-74.07780</td>\n",
       "      <td>0.0</td>\n",
       "      <td>89.7</td>\n",
       "      <td>229.0</td>\n",
       "      <td>30.0</td>\n",
       "      <td>0.0</td>\n",
       "      <td>0.0</td>\n",
       "      <td>30.0</td>\n",
       "      <td>1</td>\n",
       "    </tr>\n",
       "    <tr>\n",
       "      <th>2</th>\n",
       "      <td>527918</td>\n",
       "      <td>40.68634</td>\n",
       "      <td>-74.07783</td>\n",
       "      <td>0.0</td>\n",
       "      <td>89.7</td>\n",
       "      <td>222.0</td>\n",
       "      <td>30.0</td>\n",
       "      <td>0.0</td>\n",
       "      <td>0.0</td>\n",
       "      <td>30.0</td>\n",
       "      <td>1</td>\n",
       "    </tr>\n",
       "    <tr>\n",
       "      <th>3</th>\n",
       "      <td>527918</td>\n",
       "      <td>40.68634</td>\n",
       "      <td>-74.07783</td>\n",
       "      <td>0.0</td>\n",
       "      <td>89.7</td>\n",
       "      <td>224.0</td>\n",
       "      <td>30.0</td>\n",
       "      <td>0.0</td>\n",
       "      <td>0.0</td>\n",
       "      <td>30.0</td>\n",
       "      <td>1</td>\n",
       "    </tr>\n",
       "    <tr>\n",
       "      <th>4</th>\n",
       "      <td>527918</td>\n",
       "      <td>40.68634</td>\n",
       "      <td>-74.07783</td>\n",
       "      <td>0.0</td>\n",
       "      <td>89.7</td>\n",
       "      <td>225.0</td>\n",
       "      <td>30.0</td>\n",
       "      <td>0.0</td>\n",
       "      <td>0.0</td>\n",
       "      <td>30.0</td>\n",
       "      <td>1</td>\n",
       "    </tr>\n",
       "  </tbody>\n",
       "</table>\n",
       "</div>"
      ],
      "text/plain": [
       "     MMSI       LAT       LON  SOG   COG  Heading  VesselType  Length  Width  \\\n",
       "0  527918  40.68632 -74.07780  0.0  89.7    228.0        30.0     0.0    0.0   \n",
       "1  527918  40.68633 -74.07780  0.0  89.7    229.0        30.0     0.0    0.0   \n",
       "2  527918  40.68634 -74.07783  0.0  89.7    222.0        30.0     0.0    0.0   \n",
       "3  527918  40.68634 -74.07783  0.0  89.7    224.0        30.0     0.0    0.0   \n",
       "4  527918  40.68634 -74.07783  0.0  89.7    225.0        30.0     0.0    0.0   \n",
       "\n",
       "   Cargo  Records  \n",
       "0   30.0        1  \n",
       "1   30.0        1  \n",
       "2   30.0        1  \n",
       "3   30.0        1  \n",
       "4   30.0        1  "
      ]
     },
     "execution_count": 24,
     "metadata": {},
     "output_type": "execute_result"
    }
   ],
   "source": [
    "df2.head()"
   ]
  },
  {
   "cell_type": "code",
   "execution_count": 25,
   "id": "animal-internship",
   "metadata": {},
   "outputs": [
    {
     "data": {
      "text/html": [
       "<div>\n",
       "<style scoped>\n",
       "    .dataframe tbody tr th:only-of-type {\n",
       "        vertical-align: middle;\n",
       "    }\n",
       "\n",
       "    .dataframe tbody tr th {\n",
       "        vertical-align: top;\n",
       "    }\n",
       "\n",
       "    .dataframe thead th {\n",
       "        text-align: right;\n",
       "    }\n",
       "</style>\n",
       "<table border=\"1\" class=\"dataframe\">\n",
       "  <thead>\n",
       "    <tr style=\"text-align: right;\">\n",
       "      <th></th>\n",
       "      <th>MMSI</th>\n",
       "      <th>LAT</th>\n",
       "      <th>LON</th>\n",
       "      <th>SOG</th>\n",
       "      <th>COG</th>\n",
       "      <th>Heading</th>\n",
       "      <th>VesselType</th>\n",
       "      <th>Length</th>\n",
       "      <th>Width</th>\n",
       "      <th>Cargo</th>\n",
       "      <th>Records</th>\n",
       "    </tr>\n",
       "  </thead>\n",
       "  <tbody>\n",
       "    <tr>\n",
       "      <th>MMSI</th>\n",
       "      <td>1.000000</td>\n",
       "      <td>-0.083938</td>\n",
       "      <td>0.051970</td>\n",
       "      <td>0.087256</td>\n",
       "      <td>0.031727</td>\n",
       "      <td>-0.087318</td>\n",
       "      <td>0.157961</td>\n",
       "      <td>0.243704</td>\n",
       "      <td>0.250676</td>\n",
       "      <td>0.148018</td>\n",
       "      <td>-0.001800</td>\n",
       "    </tr>\n",
       "    <tr>\n",
       "      <th>LAT</th>\n",
       "      <td>-0.083938</td>\n",
       "      <td>1.000000</td>\n",
       "      <td>-0.537669</td>\n",
       "      <td>-0.036052</td>\n",
       "      <td>-0.010438</td>\n",
       "      <td>-0.026053</td>\n",
       "      <td>-0.113283</td>\n",
       "      <td>-0.014801</td>\n",
       "      <td>-0.047168</td>\n",
       "      <td>-0.094594</td>\n",
       "      <td>-0.002212</td>\n",
       "    </tr>\n",
       "    <tr>\n",
       "      <th>LON</th>\n",
       "      <td>0.051970</td>\n",
       "      <td>-0.537669</td>\n",
       "      <td>1.000000</td>\n",
       "      <td>-0.001628</td>\n",
       "      <td>0.018888</td>\n",
       "      <td>0.022002</td>\n",
       "      <td>0.043048</td>\n",
       "      <td>-0.019610</td>\n",
       "      <td>-0.010087</td>\n",
       "      <td>0.072312</td>\n",
       "      <td>0.000572</td>\n",
       "    </tr>\n",
       "    <tr>\n",
       "      <th>SOG</th>\n",
       "      <td>0.087256</td>\n",
       "      <td>-0.036052</td>\n",
       "      <td>-0.001628</td>\n",
       "      <td>1.000000</td>\n",
       "      <td>0.131319</td>\n",
       "      <td>-0.212681</td>\n",
       "      <td>0.237108</td>\n",
       "      <td>0.406404</td>\n",
       "      <td>0.358101</td>\n",
       "      <td>0.217535</td>\n",
       "      <td>-0.016960</td>\n",
       "    </tr>\n",
       "    <tr>\n",
       "      <th>COG</th>\n",
       "      <td>0.031727</td>\n",
       "      <td>-0.010438</td>\n",
       "      <td>0.018888</td>\n",
       "      <td>0.131319</td>\n",
       "      <td>1.000000</td>\n",
       "      <td>-0.104935</td>\n",
       "      <td>0.060651</td>\n",
       "      <td>0.094013</td>\n",
       "      <td>0.091233</td>\n",
       "      <td>0.064884</td>\n",
       "      <td>0.003599</td>\n",
       "    </tr>\n",
       "    <tr>\n",
       "      <th>Heading</th>\n",
       "      <td>-0.087318</td>\n",
       "      <td>-0.026053</td>\n",
       "      <td>0.022002</td>\n",
       "      <td>-0.212681</td>\n",
       "      <td>-0.104935</td>\n",
       "      <td>1.000000</td>\n",
       "      <td>-0.219641</td>\n",
       "      <td>-0.400715</td>\n",
       "      <td>-0.405029</td>\n",
       "      <td>-0.213841</td>\n",
       "      <td>-0.009425</td>\n",
       "    </tr>\n",
       "    <tr>\n",
       "      <th>VesselType</th>\n",
       "      <td>0.157961</td>\n",
       "      <td>-0.113283</td>\n",
       "      <td>0.043048</td>\n",
       "      <td>0.237108</td>\n",
       "      <td>0.060651</td>\n",
       "      <td>-0.219641</td>\n",
       "      <td>1.000000</td>\n",
       "      <td>0.590158</td>\n",
       "      <td>0.572602</td>\n",
       "      <td>0.581054</td>\n",
       "      <td>0.007253</td>\n",
       "    </tr>\n",
       "    <tr>\n",
       "      <th>Length</th>\n",
       "      <td>0.243704</td>\n",
       "      <td>-0.014801</td>\n",
       "      <td>-0.019610</td>\n",
       "      <td>0.406404</td>\n",
       "      <td>0.094013</td>\n",
       "      <td>-0.400715</td>\n",
       "      <td>0.590158</td>\n",
       "      <td>1.000000</td>\n",
       "      <td>0.927508</td>\n",
       "      <td>0.496944</td>\n",
       "      <td>0.004799</td>\n",
       "    </tr>\n",
       "    <tr>\n",
       "      <th>Width</th>\n",
       "      <td>0.250676</td>\n",
       "      <td>-0.047168</td>\n",
       "      <td>-0.010087</td>\n",
       "      <td>0.358101</td>\n",
       "      <td>0.091233</td>\n",
       "      <td>-0.405029</td>\n",
       "      <td>0.572602</td>\n",
       "      <td>0.927508</td>\n",
       "      <td>1.000000</td>\n",
       "      <td>0.489353</td>\n",
       "      <td>0.004660</td>\n",
       "    </tr>\n",
       "    <tr>\n",
       "      <th>Cargo</th>\n",
       "      <td>0.148018</td>\n",
       "      <td>-0.094594</td>\n",
       "      <td>0.072312</td>\n",
       "      <td>0.217535</td>\n",
       "      <td>0.064884</td>\n",
       "      <td>-0.213841</td>\n",
       "      <td>0.581054</td>\n",
       "      <td>0.496944</td>\n",
       "      <td>0.489353</td>\n",
       "      <td>1.000000</td>\n",
       "      <td>0.002880</td>\n",
       "    </tr>\n",
       "    <tr>\n",
       "      <th>Records</th>\n",
       "      <td>-0.001800</td>\n",
       "      <td>-0.002212</td>\n",
       "      <td>0.000572</td>\n",
       "      <td>-0.016960</td>\n",
       "      <td>0.003599</td>\n",
       "      <td>-0.009425</td>\n",
       "      <td>0.007253</td>\n",
       "      <td>0.004799</td>\n",
       "      <td>0.004660</td>\n",
       "      <td>0.002880</td>\n",
       "      <td>1.000000</td>\n",
       "    </tr>\n",
       "  </tbody>\n",
       "</table>\n",
       "</div>"
      ],
      "text/plain": [
       "                MMSI       LAT       LON       SOG       COG   Heading  \\\n",
       "MMSI        1.000000 -0.083938  0.051970  0.087256  0.031727 -0.087318   \n",
       "LAT        -0.083938  1.000000 -0.537669 -0.036052 -0.010438 -0.026053   \n",
       "LON         0.051970 -0.537669  1.000000 -0.001628  0.018888  0.022002   \n",
       "SOG         0.087256 -0.036052 -0.001628  1.000000  0.131319 -0.212681   \n",
       "COG         0.031727 -0.010438  0.018888  0.131319  1.000000 -0.104935   \n",
       "Heading    -0.087318 -0.026053  0.022002 -0.212681 -0.104935  1.000000   \n",
       "VesselType  0.157961 -0.113283  0.043048  0.237108  0.060651 -0.219641   \n",
       "Length      0.243704 -0.014801 -0.019610  0.406404  0.094013 -0.400715   \n",
       "Width       0.250676 -0.047168 -0.010087  0.358101  0.091233 -0.405029   \n",
       "Cargo       0.148018 -0.094594  0.072312  0.217535  0.064884 -0.213841   \n",
       "Records    -0.001800 -0.002212  0.000572 -0.016960  0.003599 -0.009425   \n",
       "\n",
       "            VesselType    Length     Width     Cargo   Records  \n",
       "MMSI          0.157961  0.243704  0.250676  0.148018 -0.001800  \n",
       "LAT          -0.113283 -0.014801 -0.047168 -0.094594 -0.002212  \n",
       "LON           0.043048 -0.019610 -0.010087  0.072312  0.000572  \n",
       "SOG           0.237108  0.406404  0.358101  0.217535 -0.016960  \n",
       "COG           0.060651  0.094013  0.091233  0.064884  0.003599  \n",
       "Heading      -0.219641 -0.400715 -0.405029 -0.213841 -0.009425  \n",
       "VesselType    1.000000  0.590158  0.572602  0.581054  0.007253  \n",
       "Length        0.590158  1.000000  0.927508  0.496944  0.004799  \n",
       "Width         0.572602  0.927508  1.000000  0.489353  0.004660  \n",
       "Cargo         0.581054  0.496944  0.489353  1.000000  0.002880  \n",
       "Records       0.007253  0.004799  0.004660  0.002880  1.000000  "
      ]
     },
     "execution_count": 25,
     "metadata": {},
     "output_type": "execute_result"
    }
   ],
   "source": [
    "df2.corr()"
   ]
  },
  {
   "cell_type": "code",
   "execution_count": 26,
   "id": "classified-heather",
   "metadata": {},
   "outputs": [
    {
     "name": "stdout",
     "output_type": "stream",
     "text": [
      "The more closer to the green color the more features are correlated\n"
     ]
    },
    {
     "data": {
      "image/png": "[encoded data removed]",
      "text/plain": [
       "<Figure size 1440x1440 with 2 Axes>"
      ]
     },
     "metadata": {
      "needs_background": "light"
     },
     "output_type": "display_data"
    }
   ],
   "source": [
    "#geting correlations of each features in dataset\n",
    "corrmat = df2.corr()\n",
    "top_corr_features = corrmat.index\n",
    "plt.figure(figsize=(20,20))\n",
    "plt.title(\"This will give an idea how the features correlated to each other\".upper(), size=18, color=\"blue\")\n",
    "g = sns.heatmap(df2[top_corr_features].corr(),annot=True,cmap=\"RdYlGn\")\n",
    "print(\"The more closer to the green color the more features are correlated\") ###"
   ]
  },
  {
   "cell_type": "code",
   "execution_count": 27,
   "id": "cosmetic-lighter",
   "metadata": {},
   "outputs": [
    {
     "data": {
      "text/html": [
       "<div>\n",
       "<style scoped>\n",
       "    .dataframe tbody tr th:only-of-type {\n",
       "        vertical-align: middle;\n",
       "    }\n",
       "\n",
       "    .dataframe tbody tr th {\n",
       "        vertical-align: top;\n",
       "    }\n",
       "\n",
       "    .dataframe thead th {\n",
       "        text-align: right;\n",
       "    }\n",
       "</style>\n",
       "<table border=\"1\" class=\"dataframe\">\n",
       "  <thead>\n",
       "    <tr style=\"text-align: right;\">\n",
       "      <th></th>\n",
       "      <th>MMSI</th>\n",
       "      <th>LAT</th>\n",
       "      <th>LON</th>\n",
       "      <th>SOG</th>\n",
       "      <th>COG</th>\n",
       "      <th>Heading</th>\n",
       "      <th>VesselType</th>\n",
       "      <th>Length</th>\n",
       "      <th>Width</th>\n",
       "      <th>Cargo</th>\n",
       "      <th>Records</th>\n",
       "    </tr>\n",
       "  </thead>\n",
       "  <tbody>\n",
       "    <tr>\n",
       "      <th>0</th>\n",
       "      <td>527918</td>\n",
       "      <td>40.68632</td>\n",
       "      <td>-74.07780</td>\n",
       "      <td>0.0</td>\n",
       "      <td>89.7</td>\n",
       "      <td>228.0</td>\n",
       "      <td>30.0</td>\n",
       "      <td>0.0</td>\n",
       "      <td>0.0</td>\n",
       "      <td>30.0</td>\n",
       "      <td>1</td>\n",
       "    </tr>\n",
       "    <tr>\n",
       "      <th>1</th>\n",
       "      <td>527918</td>\n",
       "      <td>40.68633</td>\n",
       "      <td>-74.07780</td>\n",
       "      <td>0.0</td>\n",
       "      <td>89.7</td>\n",
       "      <td>229.0</td>\n",
       "      <td>30.0</td>\n",
       "      <td>0.0</td>\n",
       "      <td>0.0</td>\n",
       "      <td>30.0</td>\n",
       "      <td>1</td>\n",
       "    </tr>\n",
       "    <tr>\n",
       "      <th>2</th>\n",
       "      <td>527918</td>\n",
       "      <td>40.68634</td>\n",
       "      <td>-74.07783</td>\n",
       "      <td>0.0</td>\n",
       "      <td>89.7</td>\n",
       "      <td>222.0</td>\n",
       "      <td>30.0</td>\n",
       "      <td>0.0</td>\n",
       "      <td>0.0</td>\n",
       "      <td>30.0</td>\n",
       "      <td>1</td>\n",
       "    </tr>\n",
       "    <tr>\n",
       "      <th>3</th>\n",
       "      <td>527918</td>\n",
       "      <td>40.68634</td>\n",
       "      <td>-74.07783</td>\n",
       "      <td>0.0</td>\n",
       "      <td>89.7</td>\n",
       "      <td>224.0</td>\n",
       "      <td>30.0</td>\n",
       "      <td>0.0</td>\n",
       "      <td>0.0</td>\n",
       "      <td>30.0</td>\n",
       "      <td>1</td>\n",
       "    </tr>\n",
       "    <tr>\n",
       "      <th>4</th>\n",
       "      <td>527918</td>\n",
       "      <td>40.68634</td>\n",
       "      <td>-74.07783</td>\n",
       "      <td>0.0</td>\n",
       "      <td>89.7</td>\n",
       "      <td>225.0</td>\n",
       "      <td>30.0</td>\n",
       "      <td>0.0</td>\n",
       "      <td>0.0</td>\n",
       "      <td>30.0</td>\n",
       "      <td>1</td>\n",
       "    </tr>\n",
       "  </tbody>\n",
       "</table>\n",
       "</div>"
      ],
      "text/plain": [
       "     MMSI       LAT       LON  SOG   COG  Heading  VesselType  Length  Width  \\\n",
       "0  527918  40.68632 -74.07780  0.0  89.7    228.0        30.0     0.0    0.0   \n",
       "1  527918  40.68633 -74.07780  0.0  89.7    229.0        30.0     0.0    0.0   \n",
       "2  527918  40.68634 -74.07783  0.0  89.7    222.0        30.0     0.0    0.0   \n",
       "3  527918  40.68634 -74.07783  0.0  89.7    224.0        30.0     0.0    0.0   \n",
       "4  527918  40.68634 -74.07783  0.0  89.7    225.0        30.0     0.0    0.0   \n",
       "\n",
       "   Cargo  Records  \n",
       "0   30.0        1  \n",
       "1   30.0        1  \n",
       "2   30.0        1  \n",
       "3   30.0        1  \n",
       "4   30.0        1  "
      ]
     },
     "execution_count": 27,
     "metadata": {},
     "output_type": "execute_result"
    }
   ],
   "source": [
    "df2.head()"
   ]
  },
  {
   "cell_type": "code",
   "execution_count": 28,
   "id": "fuzzy-cement",
   "metadata": {},
   "outputs": [],
   "source": [
    "df2 = df2[[\"Heading\", \"MMSI\", \"LAT\", \"LON\", \"SOG\", \"COG\", \"VesselType\", \"Length\", \"Width\", \"Cargo\"]]\n"
   ]
  },
  {
   "cell_type": "code",
   "execution_count": 29,
   "id": "australian-quest",
   "metadata": {},
   "outputs": [],
   "source": [
    "X = df2.iloc[:,1:]\n",
    "y = df2.iloc[:,0]"
   ]
  },
  {
   "cell_type": "code",
   "execution_count": 30,
   "id": "invisible-deviation",
   "metadata": {},
   "outputs": [
    {
     "data": {
      "text/plain": [
       "ExtraTreesRegressor()"
      ]
     },
     "execution_count": 30,
     "metadata": {},
     "output_type": "execute_result"
    }
   ],
   "source": [
    "### here I would like to feature Importance\n",
    "model = ExtraTreesRegressor()\n",
    "model.fit(X,y)"
   ]
  },
  {
   "cell_type": "code",
   "execution_count": 31,
   "id": "nuclear-grain",
   "metadata": {},
   "outputs": [
    {
     "name": "stdout",
     "output_type": "stream",
     "text": [
      "[0.13665364 0.11585902 0.13488292 0.0358996  0.04246061 0.05483715\n",
      " 0.25718166 0.13634338 0.08588202]\n"
     ]
    }
   ],
   "source": [
    "print(model.feature_importances_)"
   ]
  },
  {
   "cell_type": "code",
   "execution_count": 32,
   "id": "crucial-positive",
   "metadata": {},
   "outputs": [
    {
     "data": {
      "image/png": "[encoded data removed]",
      "text/plain": [
       "<Figure size 432x288 with 1 Axes>"
      ]
     },
     "metadata": {
      "needs_background": "light"
     },
     "output_type": "display_data"
    }
   ],
   "source": [
    "# Here I want to show the features importances with visualization\n",
    "n = len(df2.columns)\n",
    "feat_importances = pd.Series(model.feature_importances_, index=X.columns)\n",
    "feat_importances.nlargest(n).plot(kind=\"barh\")\n",
    "plt.show()"
   ]
  },
  {
   "cell_type": "code",
   "execution_count": 33,
   "id": "black-sleeve",
   "metadata": {},
   "outputs": [],
   "source": [
    "X_train, X_test, y_train, y_test = train_test_split(X, y, test_size=0.3, random_state=0)"
   ]
  },
  {
   "cell_type": "code",
   "execution_count": 34,
   "id": "determined-bearing",
   "metadata": {},
   "outputs": [
    {
     "data": {
      "text/plain": [
       "[5, 10]"
      ]
     },
     "execution_count": 34,
     "metadata": {},
     "output_type": "execute_result"
    }
   ],
   "source": [
    "max_depth = [int(x) for x in np.linspace(5, 10, num = 2)]\n",
    "max_depth"
   ]
  },
  {
   "cell_type": "markdown",
   "id": "meaning-disposition",
   "metadata": {},
   "source": [
    "#### NB. I didn't use the cell below during training my model since it took too long run each epoch. It could give a good result because of searchCV. One could also use greedysearch to know the min and max accuracy\n"
   ]
  },
  {
   "cell_type": "code",
   "execution_count": 35,
   "id": "material-scottish",
   "metadata": {},
   "outputs": [],
   "source": [
    "#Randomized Search CV\n",
    "# Number of trees in random forest\n",
    "regressor = RandomForestRegressor()\n",
    "n_estimators = [int(x) for x in np.linspace(start = 100, stop = 1200, num = 12)]\n",
    "# Number of features to consider at every split\n",
    "max_features = [\"auto\", \"sqrt\"]\n",
    "# Maximum number of levels in tree\n",
    "max_depth = [int(x) for x in np.linspace(5, 10, num = 2)]\n",
    "# max_depth.append(None)\n",
    "# Minimum number of samples required to split a node\n",
    "min_samples_split = [2, 5, 10, 15, 100]\n",
    "# Minimum number of samples required at each leaf node\n",
    "min_samples_leaf = [1, 2, 5, 10]\n",
    "\n",
    "# Create the random grid\n",
    "random_grid = {\"n_estimators\": n_estimators,\n",
    "               \"max_features\": max_features,\n",
    "               \"max_depth\": max_depth,\n",
    "               \"min_samples_split\": min_samples_split,\n",
    "               \"min_samples_leaf\": min_samples_leaf}\n",
    "#print(random_grid)\n",
    "#rf = RandomForestRegressor()\n",
    "#rf_random = RandomizedSearchCV(estimator = rf, param_distributions = random_grid,scoring='neg_mean_squared_error', n_iter = 10, cv = 5, verbose=2, random_state=42, n_jobs = 1)\n",
    "#rf_random.fit(X_train,y_train) took long to run\n"
   ]
  },
  {
   "cell_type": "code",
   "execution_count": 36,
   "id": "essential-sunset",
   "metadata": {},
   "outputs": [
    {
     "data": {
      "text/plain": [
       "RandomForestRegressor(max_depth=2, random_state=0)"
      ]
     },
     "execution_count": 36,
     "metadata": {},
     "output_type": "execute_result"
    }
   ],
   "source": [
    "r = RandomForestRegressor(max_depth=2, random_state=0)\n",
    "r.fit(X_train,y_train)"
   ]
  },
  {
   "cell_type": "code",
   "execution_count": 37,
   "id": "noted-brain",
   "metadata": {},
   "outputs": [],
   "source": [
    "pred = r.predict(X_test)"
   ]
  },
  {
   "cell_type": "markdown",
   "id": "established-parker",
   "metadata": {},
   "source": [
    "#### In the figures below, one can easily see that the model did not trained well. This is because the amount of data is quite large to a normal PC, which only runs on CPU"
   ]
  },
  {
   "cell_type": "code",
   "execution_count": 38,
   "id": "medieval-lebanon",
   "metadata": {},
   "outputs": [
    {
     "name": "stderr",
     "output_type": "stream",
     "text": [
      "/Users/tsegazabtesfay/opt/anaconda3/envs/SIDR/lib/python3.7/site-packages/seaborn/distributions.py:2557: FutureWarning: `distplot` is a deprecated function and will be removed in a future version. Please adapt your code to use either `displot` (a figure-level function with similar flexibility) or `histplot` (an axes-level function for histograms).\n",
      "  warnings.warn(msg, FutureWarning)\n"
     ]
    },
    {
     "data": {
      "text/plain": [
       "<AxesSubplot:xlabel='Heading', ylabel='Density'>"
      ]
     },
     "execution_count": 38,
     "metadata": {},
     "output_type": "execute_result"
    },
    {
     "data": {
      "image/png": "[encoded data removed]",
      "text/plain": [
       "<Figure size 432x288 with 1 Axes>"
      ]
     },
     "metadata": {
      "needs_background": "light"
     },
     "output_type": "display_data"
    }
   ],
   "source": [
    "sns.distplot(y_test-pred)"
   ]
  },
  {
   "cell_type": "code",
   "execution_count": 39,
   "id": "enormous-playing",
   "metadata": {},
   "outputs": [
    {
     "data": {
      "text/plain": [
       "<matplotlib.collections.PathCollection at 0x7f7c22e90ad0>"
      ]
     },
     "execution_count": 39,
     "metadata": {},
     "output_type": "execute_result"
    },
    {
     "data": {
      "image/png": "[encoded data removed]",
      "text/plain": [
       "<Figure size 432x288 with 1 Axes>"
      ]
     },
     "metadata": {
      "needs_background": "light"
     },
     "output_type": "display_data"
    }
   ],
   "source": [
    "plt.scatter(y_test,pred)"
   ]
  },
  {
   "cell_type": "markdown",
   "id": "strategic-muscle",
   "metadata": {},
   "source": [
    "#### saving my model, name = Model.pkl"
   ]
  },
  {
   "cell_type": "code",
   "execution_count": 40,
   "id": "amended-butterfly",
   "metadata": {},
   "outputs": [],
   "source": [
    "import pickle\n",
    "file = open(\"Model.pkl\", \"wb\")\n",
    "pickle.dump(r, file)"
   ]
  },
  {
   "cell_type": "code",
   "execution_count": null,
   "id": "prostate-darwin",
   "metadata": {},
   "outputs": [],
   "source": []
  },
  {
   "cell_type": "code",
   "execution_count": null,
   "id": "essential-ticket",
   "metadata": {},
   "outputs": [],
   "source": []
  },
  {
   "cell_type": "code",
   "execution_count": null,
   "id": "viral-nursing",
   "metadata": {},
   "outputs": [],
   "source": []
  },
  {
   "cell_type": "code",
   "execution_count": null,
   "id": "touched-skiing",
   "metadata": {},
   "outputs": [],
   "source": []
  },
  {
   "cell_type": "code",
   "execution_count": null,
   "id": "eight-farmer",
   "metadata": {},
   "outputs": [],
   "source": []
  }
 ],
 "metadata": {
  "kernelspec": {
   "display_name": "Python 3",
   "language": "python",
   "name": "python3"
  },
  "language_info": {
   "codemirror_mode": {
    "name": "ipython",
    "version": 3
   },
   "file_extension": ".py",
   "mimetype": "text/x-python",
   "name": "python",
   "nbconvert_exporter": "python",
   "pygments_lexer": "ipython3",
   "version": "3.7.10"
  }
 },
 "nbformat": 4,
 "nbformat_minor": 5
}
